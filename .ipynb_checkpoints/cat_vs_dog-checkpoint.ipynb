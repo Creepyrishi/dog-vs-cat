{
  "cells": [
    {
      "cell_type": "code",
      "execution_count": 27,
      "metadata": {
        "colab": {
          "base_uri": "https://localhost:8080/"
        },
        "id": "z4k8AAiAKWOx",
        "outputId": "f1ce04b8-ed53-4b21-9f12-a01acbd44cb6"
      },
      "outputs": [
        {
          "output_type": "stream",
          "name": "stdout",
          "text": [
            "Warning: Your Kaggle API key is readable by other users on this system! To fix this, you can run 'chmod 600 /root/.kaggle/kaggle.json'\n",
            "Dataset URL: https://www.kaggle.com/datasets/salader/dogs-vs-cats\n",
            "License(s): unknown\n",
            "dogs-vs-cats.zip: Skipping, found more recently modified local copy (use --force to force download)\n"
          ]
        }
      ],
      "source": [
        "!mkdir -p ~/.kaggle\n",
        "!cp kaggle.json ~/.kaggle/\n",
        "!kaggle datasets download -d salader/dogs-vs-cats"
      ]
    },
    {
      "cell_type": "code",
      "execution_count": 28,
      "metadata": {
        "colab": {
          "base_uri": "https://localhost:8080/"
        },
        "id": "JyrWVruvbE0H",
        "outputId": "802f5c72-2fd3-4134-ea10-b1d59b29fd92"
      },
      "outputs": [
        {
          "output_type": "stream",
          "name": "stdout",
          "text": [
            "Requirement already satisfied: torchmetrics in /usr/local/lib/python3.11/dist-packages (1.7.1)\n",
            "Requirement already satisfied: numpy>1.20.0 in /usr/local/lib/python3.11/dist-packages (from torchmetrics) (2.0.2)\n",
            "Requirement already satisfied: packaging>17.1 in /usr/local/lib/python3.11/dist-packages (from torchmetrics) (24.2)\n",
            "Requirement already satisfied: torch>=2.0.0 in /usr/local/lib/python3.11/dist-packages (from torchmetrics) (2.6.0+cu124)\n",
            "Requirement already satisfied: lightning-utilities>=0.8.0 in /usr/local/lib/python3.11/dist-packages (from torchmetrics) (0.14.3)\n",
            "Requirement already satisfied: setuptools in /usr/local/lib/python3.11/dist-packages (from lightning-utilities>=0.8.0->torchmetrics) (75.2.0)\n",
            "Requirement already satisfied: typing_extensions in /usr/local/lib/python3.11/dist-packages (from lightning-utilities>=0.8.0->torchmetrics) (4.13.1)\n",
            "Requirement already satisfied: filelock in /usr/local/lib/python3.11/dist-packages (from torch>=2.0.0->torchmetrics) (3.18.0)\n",
            "Requirement already satisfied: networkx in /usr/local/lib/python3.11/dist-packages (from torch>=2.0.0->torchmetrics) (3.4.2)\n",
            "Requirement already satisfied: jinja2 in /usr/local/lib/python3.11/dist-packages (from torch>=2.0.0->torchmetrics) (3.1.6)\n",
            "Requirement already satisfied: fsspec in /usr/local/lib/python3.11/dist-packages (from torch>=2.0.0->torchmetrics) (2025.3.2)\n",
            "Requirement already satisfied: nvidia-cuda-nvrtc-cu12==12.4.127 in /usr/local/lib/python3.11/dist-packages (from torch>=2.0.0->torchmetrics) (12.4.127)\n",
            "Requirement already satisfied: nvidia-cuda-runtime-cu12==12.4.127 in /usr/local/lib/python3.11/dist-packages (from torch>=2.0.0->torchmetrics) (12.4.127)\n",
            "Requirement already satisfied: nvidia-cuda-cupti-cu12==12.4.127 in /usr/local/lib/python3.11/dist-packages (from torch>=2.0.0->torchmetrics) (12.4.127)\n",
            "Requirement already satisfied: nvidia-cudnn-cu12==9.1.0.70 in /usr/local/lib/python3.11/dist-packages (from torch>=2.0.0->torchmetrics) (9.1.0.70)\n",
            "Requirement already satisfied: nvidia-cublas-cu12==12.4.5.8 in /usr/local/lib/python3.11/dist-packages (from torch>=2.0.0->torchmetrics) (12.4.5.8)\n",
            "Requirement already satisfied: nvidia-cufft-cu12==11.2.1.3 in /usr/local/lib/python3.11/dist-packages (from torch>=2.0.0->torchmetrics) (11.2.1.3)\n",
            "Requirement already satisfied: nvidia-curand-cu12==10.3.5.147 in /usr/local/lib/python3.11/dist-packages (from torch>=2.0.0->torchmetrics) (10.3.5.147)\n",
            "Requirement already satisfied: nvidia-cusolver-cu12==11.6.1.9 in /usr/local/lib/python3.11/dist-packages (from torch>=2.0.0->torchmetrics) (11.6.1.9)\n",
            "Requirement already satisfied: nvidia-cusparse-cu12==12.3.1.170 in /usr/local/lib/python3.11/dist-packages (from torch>=2.0.0->torchmetrics) (12.3.1.170)\n",
            "Requirement already satisfied: nvidia-cusparselt-cu12==0.6.2 in /usr/local/lib/python3.11/dist-packages (from torch>=2.0.0->torchmetrics) (0.6.2)\n",
            "Requirement already satisfied: nvidia-nccl-cu12==2.21.5 in /usr/local/lib/python3.11/dist-packages (from torch>=2.0.0->torchmetrics) (2.21.5)\n",
            "Requirement already satisfied: nvidia-nvtx-cu12==12.4.127 in /usr/local/lib/python3.11/dist-packages (from torch>=2.0.0->torchmetrics) (12.4.127)\n",
            "Requirement already satisfied: nvidia-nvjitlink-cu12==12.4.127 in /usr/local/lib/python3.11/dist-packages (from torch>=2.0.0->torchmetrics) (12.4.127)\n",
            "Requirement already satisfied: triton==3.2.0 in /usr/local/lib/python3.11/dist-packages (from torch>=2.0.0->torchmetrics) (3.2.0)\n",
            "Requirement already satisfied: sympy==1.13.1 in /usr/local/lib/python3.11/dist-packages (from torch>=2.0.0->torchmetrics) (1.13.1)\n",
            "Requirement already satisfied: mpmath<1.4,>=1.1.0 in /usr/local/lib/python3.11/dist-packages (from sympy==1.13.1->torch>=2.0.0->torchmetrics) (1.3.0)\n",
            "Requirement already satisfied: MarkupSafe>=2.0 in /usr/local/lib/python3.11/dist-packages (from jinja2->torch>=2.0.0->torchmetrics) (3.0.2)\n"
          ]
        }
      ],
      "source": [
        "!pip install torchmetrics"
      ]
    },
    {
      "cell_type": "code",
      "execution_count": 29,
      "metadata": {
        "id": "DSGoK_QMNEJU"
      },
      "outputs": [],
      "source": [
        "import zipfile\n",
        "zip_ref = zipfile.ZipFile('dogs-vs-cats.zip', 'r')\n",
        "zip_ref.extractall()\n",
        "zip_ref.close()"
      ]
    },
    {
      "cell_type": "code",
      "execution_count": 30,
      "metadata": {
        "id": "fKjOvHTfNLlP"
      },
      "outputs": [],
      "source": [
        "import torch\n",
        "from torch.utils.data import  DataLoader\n",
        "from torchvision import datasets, transforms\n",
        "from torch import nn\n",
        "from torchmetrics.classification  import BinaryAccuracy"
      ]
    },
    {
      "cell_type": "code",
      "execution_count": 31,
      "metadata": {
        "colab": {
          "base_uri": "https://localhost:8080/"
        },
        "id": "m69Ai_3Ofd-O",
        "outputId": "a45ef63b-27f4-438e-c77e-65a912b05f97"
      },
      "outputs": [
        {
          "output_type": "execute_result",
          "data": {
            "text/plain": [
              "device(type='cuda')"
            ]
          },
          "metadata": {},
          "execution_count": 31
        }
      ],
      "source": [
        "device = torch.device(\"cuda\" if torch.cuda.is_available() else \"cpu\")\n",
        "device"
      ]
    },
    {
      "cell_type": "code",
      "execution_count": 32,
      "metadata": {
        "id": "bIEu5fIKNs-q"
      },
      "outputs": [],
      "source": [
        "transform = transforms.Compose([\n",
        "    transforms.Resize((288,228)),\n",
        "    transforms.ToTensor(),\n",
        "    transforms.Normalize(mean=[0.5, 0.5, 0.5], std=[0.5, 0.5, 0.5])\n",
        "])"
      ]
    },
    {
      "cell_type": "code",
      "execution_count": 55,
      "metadata": {
        "id": "BMYUgyIUN71L",
        "colab": {
          "base_uri": "https://localhost:8080/"
        },
        "outputId": "abc9315e-2383-4987-caa4-05ef032501e7"
      },
      "outputs": [
        {
          "output_type": "stream",
          "name": "stdout",
          "text": [
            "{'cats': 0, 'dogs': 1}\n"
          ]
        }
      ],
      "source": [
        "train = datasets.ImageFolder(\"/content/train\", transform=transform)\n",
        "test = datasets.ImageFolder(\"/content/test\", transform=transform)\n",
        "print(train.class_to_idx)"
      ]
    },
    {
      "cell_type": "code",
      "execution_count": 34,
      "metadata": {
        "id": "Wm9vhNbZS37p"
      },
      "outputs": [],
      "source": [
        "torch.manual_seed(42)\n",
        "data_loader = DataLoader(train, batch_size=32, shuffle=True)"
      ]
    },
    {
      "cell_type": "code",
      "execution_count": 35,
      "metadata": {
        "id": "UH5laIKaTbgQ"
      },
      "outputs": [],
      "source": [
        "class CNN(nn.Module):\n",
        "  def __init__(self):\n",
        "    super().__init__()\n",
        "\n",
        "    self.feature = nn.Sequential(\n",
        "      #1\n",
        "      nn.Conv2d(in_channels=3, out_channels=32, kernel_size=3, padding='valid'),\n",
        "      nn.ReLU(),\n",
        "      nn.MaxPool2d(kernel_size=2, stride=2),\n",
        "      #2\n",
        "      nn.Conv2d(in_channels = 32, out_channels = 64, kernel_size=3, padding='valid'),\n",
        "      nn.ReLU(),\n",
        "      nn.MaxPool2d(kernel_size=2, stride=2),\n",
        "      #3\n",
        "      nn.Conv2d(in_channels = 64, out_channels = 128, kernel_size=3, padding='valid'),\n",
        "      nn.ReLU(),\n",
        "      nn.MaxPool2d(kernel_size=2, stride=2)\n",
        "    )\n",
        "\n",
        "    self.classifier = nn.Sequential(\n",
        "      nn.Flatten(),\n",
        "      #4\n",
        "      nn.Linear(in_features = 128*34*26 , out_features=128),\n",
        "      nn.ReLU(),\n",
        "      #5\n",
        "      nn.Linear(in_features=128, out_features=64),\n",
        "      nn.ReLU(),\n",
        "      #6\n",
        "      nn.Linear(in_features=64, out_features=1),\n",
        "      nn.Sigmoid()\n",
        "    )\n",
        "\n",
        "  def forward(self, x):\n",
        "    x = self.feature(x)\n",
        "    x = self.classifier(x)\n",
        "    return x"
      ]
    },
    {
      "cell_type": "code",
      "execution_count": 44,
      "metadata": {
        "id": "PjBAOnrlXy4x"
      },
      "outputs": [],
      "source": [
        "def train(epochs, train_loader, model, criteration, optimizer, accuracy):\n",
        "  loss_list = []\n",
        "  accuracy_list = []\n",
        "  for epoch in range(epochs):\n",
        "    loss_batch = 0\n",
        "    acc_sum = 0\n",
        "    num_batches = 0\n",
        "    for X, y in train_loader:\n",
        "      X = X.to(device)\n",
        "      y = y.to(device)\n",
        "      y = y.view(-1, 1).float()\n",
        "      #forward pass\n",
        "      y_pred = model(X)\n",
        "      #loss calculation\n",
        "      loss = criteration(y_pred, y)\n",
        "      #reset optimizer\n",
        "      optimizer.zero_grad()\n",
        "      #backpropagations\n",
        "      loss.backward()\n",
        "      #upgrade grad\n",
        "      optimizer.step()\n",
        "\n",
        "      loss_batch += loss.item()\n",
        "\n",
        "      acc_sum += accuracy(y_pred, y).item()\n",
        "      num_batches += 1\n",
        "\n",
        "    loss_list.append(loss_batch/len(train_loader))\n",
        "    avg_acc = acc_sum / num_batches\n",
        "    accuracy_list.append(avg_acc)\n",
        "\n",
        "    print(f\"Epoch: {epoch} Loss: {loss_batch/len(train_loader)} Accuracy: {avg_acc}\")\n",
        "\n",
        "  return loss, accuracy"
      ]
    },
    {
      "cell_type": "code",
      "source": [
        "model.eval()"
      ],
      "metadata": {
        "colab": {
          "base_uri": "https://localhost:8080/"
        },
        "id": "VrvVkJCp0VEc",
        "outputId": "a2f1d01b-3254-46a7-aaa0-3c2a6f7e56e7"
      },
      "execution_count": 43,
      "outputs": [
        {
          "output_type": "execute_result",
          "data": {
            "text/plain": [
              "CNN(\n",
              "  (feature): Sequential(\n",
              "    (0): Conv2d(3, 32, kernel_size=(3, 3), stride=(1, 1), padding=valid)\n",
              "    (1): ReLU()\n",
              "    (2): MaxPool2d(kernel_size=2, stride=2, padding=0, dilation=1, ceil_mode=False)\n",
              "    (3): Conv2d(32, 64, kernel_size=(3, 3), stride=(1, 1), padding=valid)\n",
              "    (4): ReLU()\n",
              "    (5): MaxPool2d(kernel_size=2, stride=2, padding=0, dilation=1, ceil_mode=False)\n",
              "    (6): Conv2d(64, 128, kernel_size=(3, 3), stride=(1, 1), padding=valid)\n",
              "    (7): ReLU()\n",
              "    (8): MaxPool2d(kernel_size=2, stride=2, padding=0, dilation=1, ceil_mode=False)\n",
              "  )\n",
              "  (classifier): Sequential(\n",
              "    (0): Flatten(start_dim=1, end_dim=-1)\n",
              "    (1): Linear(in_features=113152, out_features=128, bias=True)\n",
              "    (2): ReLU()\n",
              "    (3): Linear(in_features=128, out_features=64, bias=True)\n",
              "    (4): ReLU()\n",
              "    (5): Linear(in_features=64, out_features=1, bias=True)\n",
              "    (6): Sigmoid()\n",
              "  )\n",
              ")"
            ]
          },
          "metadata": {},
          "execution_count": 43
        }
      ]
    },
    {
      "cell_type": "code",
      "execution_count": 46,
      "metadata": {
        "colab": {
          "base_uri": "https://localhost:8080/"
        },
        "id": "pt_7HLOnarq_",
        "outputId": "009efc2c-7578-48da-f765-e93d4610bd3c"
      },
      "outputs": [
        {
          "output_type": "stream",
          "name": "stdout",
          "text": [
            "Epoch: 0 Loss: 0.6010701561927796 Accuracy: 0.6565\n",
            "Epoch: 1 Loss: 0.48101109809875486 Accuracy: 0.76825\n",
            "Epoch: 2 Loss: 0.38208312666416167 Accuracy: 0.83055\n",
            "Epoch: 3 Loss: 0.2781326563835144 Accuracy: 0.8821\n",
            "Epoch: 4 Loss: 0.15733678929805756 Accuracy: 0.93845\n",
            "Epoch: 5 Loss: 0.07147173039410264 Accuracy: 0.97525\n",
            "Epoch: 6 Loss: 0.05782257976308465 Accuracy: 0.981\n",
            "Epoch: 7 Loss: 0.03274508445552783 Accuracy: 0.98785\n",
            "Epoch: 8 Loss: 0.03188078716802411 Accuracy: 0.9893\n",
            "Epoch: 9 Loss: 0.02833693324624328 Accuracy: 0.99045\n"
          ]
        },
        {
          "output_type": "execute_result",
          "data": {
            "text/plain": [
              "(tensor(0.0360, device='cuda:0', grad_fn=<BinaryCrossEntropyBackward0>),\n",
              " BinaryAccuracy())"
            ]
          },
          "metadata": {},
          "execution_count": 46
        }
      ],
      "source": [
        "model = CNN().to(device)\n",
        "optimizer = torch.optim.Adam(model.parameters(), lr=0.001)\n",
        "criterion = nn.BCELoss()\n",
        "accuracy = BinaryAccuracy(threshold=0.5).to(device)\n",
        "train(\n",
        "    10,\n",
        "    data_loader,\n",
        "    model,\n",
        "    nn.BCELoss(),\n",
        "    optimizer,\n",
        "    accuracy\n",
        "    )"
      ]
    },
    {
      "cell_type": "code",
      "source": [
        "data_loader_test = DataLoader(test, batch_size=32, shuffle=False)\n",
        "\n",
        "total_loss = 0\n",
        "total_correct = 0\n",
        "total_samples = 0\n",
        "\n",
        "with torch.no_grad():\n",
        "    for X_valid, y_valid in data_loader_test:\n",
        "        X_valid = X_valid.to(device)\n",
        "        y_valid = y_valid.to(device)\n",
        "        y_valid = y_valid.view(-1, 1).float()\n",
        "\n",
        "        pred = model(X_valid)\n",
        "        loss = criterion(pred, y_valid)\n",
        "\n",
        "        preds = (pred >= 0.5).int()\n",
        "\n",
        "        total_loss += loss.item() * len(X_valid)\n",
        "        total_correct += (preds == y_valid).sum().item()\n",
        "        total_samples += len(X_valid)\n",
        "\n",
        "avg_loss = total_loss / total_samples\n",
        "avg_accuracy = total_correct / total_samples\n",
        "\n",
        "print(\"###############################\")\n",
        "print(f'Average Validation Loss: {avg_loss:.4f} | Average Accuracy: {avg_accuracy:.4f}')\n",
        "print(\"###############################\")"
      ],
      "metadata": {
        "colab": {
          "base_uri": "https://localhost:8080/"
        },
        "id": "1j7wOhLo0WD5",
        "outputId": "b9acd786-7ccd-4cbd-a113-89b1c5823498"
      },
      "execution_count": 52,
      "outputs": [
        {
          "output_type": "stream",
          "name": "stdout",
          "text": [
            "###############################\n",
            "Average Validation Loss: 1.1613 | Average Accuracy: 0.7830\n",
            "###############################\n"
          ]
        }
      ]
    },
    {
      "cell_type": "code",
      "source": [
        "torch.save(model.state_dict(), 'dogs_vs_cats_model.pth')"
      ],
      "metadata": {
        "id": "8-5Ol3MV-W6S"
      },
      "execution_count": 53,
      "outputs": []
    }
  ],
  "metadata": {
    "accelerator": "GPU",
    "colab": {
      "gpuType": "T4",
      "provenance": []
    },
    "kernelspec": {
      "display_name": "Python 3",
      "name": "python3"
    },
    "language_info": {
      "name": "python"
    }
  },
  "nbformat": 4,
  "nbformat_minor": 0
}